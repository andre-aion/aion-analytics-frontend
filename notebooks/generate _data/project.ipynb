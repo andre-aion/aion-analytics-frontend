{
 "cells": [
  {
   "cell_type": "code",
   "execution_count": 30,
   "metadata": {
    "collapsed": true
   },
   "outputs": [],
   "source": [
    "import pymongo\n",
    "import pandas as pd\n",
    "import random\n",
    "import json\n",
    "from os.path import join,dirname\n",
    "import os\n",
    "from pymongo import MongoClient\n",
    "import random\n",
    "from datetime import date, timedelta, datetime\n",
    "DATEFORMAT = \"%Y-%m-%d\"\n",
    "\n",
    "client = MongoClient('localhost', 27017)\n",
    "db = client['aion']\n",
    "collection = db['employee']"
   ]
  },
  {
   "cell_type": "code",
   "execution_count": 69,
   "metadata": {},
   "outputs": [
    {
     "name": "stdout",
     "output_type": "stream",
     "text": [
      "[{'id': 1, 'name': 'Cindra Serotsky', 'department': 'Marketing', 'title': 'Senior Cost Accountant', 'gender': 'Female', 'dob': '1993-06-09', 'hourly_rate': 14}, {'id': 2, 'name': 'Nataline Marples', 'department': 'Business Development', 'title': 'Actuary', 'gender': 'Female', 'dob': '1996-09-07', 'hourly_rate': 20}]\n[{'id': 1, 'name': 'Cindra Serotsky', 'department': 'Marketing', 'title': 'Senior Cost Accountant', 'gender': 'Female', 'dob': datetime.datetime(1993, 6, 9, 0, 0), 'hourly_rate': 25.910000000000004}, {'id': 2, 'name': 'Nataline Marples', 'department': 'Business Development', 'title': 'Actuary', 'gender': 'Female', 'dob': datetime.datetime(1996, 9, 7, 0, 0), 'hourly_rate': 41.19}]\n"
     ]
    }
   ],
   "source": [
    "ROOT_DIR = os.path.abspath(os.curdir)\n",
    "filename =join(ROOT_DIR, 'data/employee_mock_data.json')\n",
    "if filename:\n",
    "    with open(filename, 'r') as f:\n",
    "        employees = json.load(f)\n",
    "print(employees[0:2])\n",
    "# bias salary by age and by gender\n",
    "employee_list = []\n",
    "for key,employee in enumerate(employees):\n",
    "    employee_list.append(employee['name'])\n",
    "    if employee['hourly_rate'] < 0:\n",
    "        employee['hourly_rate'] = 20\n",
    "    if employee['gender'].lower() == 'female':\n",
    "        employee['hourly_rate'] *= random.choice([1.3, 1.6, 1.4, 1.1])\n",
    "    dt = datetime.strptime(employee['dob'],DATEFORMAT)\n",
    "    employee['dob'] = datetime(dt.year,dt.month,dt.day,0,0,0)\n",
    "    employee['hourly_rate'] += round((datetime.today() - employee['dob']).days/900,2)\n",
    "print(employees[0:2])\n",
    "\n",
    "#collection.insert_many(employees)\n"
   ]
  },
  {
   "cell_type": "code",
   "execution_count": 83,
   "metadata": {},
   "outputs": [
    {
     "name": "stdout",
     "output_type": "stream",
     "text": [
      "          name            type  status enddate_proposed startdate_proposed  \\\n0    Project 1      innovation  closed       2014-03-23         2014-02-06   \n1    Project 2      innovation  closed       2013-12-17         2013-10-03   \n2    Project 3        research  closed       2017-08-04         2017-07-28   \n3    Project 4   manufacturing  closed       2013-07-05         2013-04-23   \n4    Project 5    construction  closed       2015-10-05         2015-07-15   \n5    Project 6    construction  closed       2013-08-05         2013-04-18   \n6    Project 7  reconciliation  closed       2018-04-25         2017-12-15   \n7    Project 8           audit  closed       2017-03-02         2017-01-19   \n8    Project 9      conference  closed       2017-07-21         2017-04-27   \n9   Project 10    construction  closed       2015-07-13         2015-02-21   \n10  Project 11           audit  closed       2017-07-01         2017-06-16   \n11  Project 12           audit  closed       2016-02-06         2016-01-07   \n12  Project 13      conference  closed       2014-02-15         2013-10-03   \n13  Project 14      conference  closed       2014-05-26         2014-01-01   \n14  Project 15    construction  closed       2015-02-04         2014-11-24   \n15  Project 16    construction  closed       2017-02-12         2016-12-07   \n16  Project 17      innovation  closed       2017-05-16         2017-04-12   \n17  Project 18   manufacturing  closed       2016-04-21         2016-01-22   \n18  Project 19   manufacturing  closed       2017-08-12         2017-08-02   \n19  Project 20   manufacturing  closed       2015-04-19         2015-04-08   \n20  Project 21      conference  closed       2015-10-12         2015-10-01   \n21  Project 22  reconciliation  closed       2013-11-02         2013-06-08   \n22  Project 23    construction  closed       2017-02-20         2016-10-08   \n23  Project 24      innovation  closed       2015-09-26         2015-08-14   \n24  Project 25      conference  closed       2016-02-27         2015-12-03   \n25  Project 26      innovation  closed       2015-02-17         2015-01-21   \n26  Project 27   manufacturing  closed       2013-12-24         2013-08-21   \n27  Project 28    construction  closed       2014-09-03         2014-08-01   \n28  Project 29           audit  closed       2017-06-16         2017-04-13   \n29  Project 30        research  closed       2013-05-11         2013-03-07   \n\n   enddate_actual startdate_actual  \n0      2014-03-14       2014-02-06  \n1      2013-12-29       2013-10-04  \n2      2017-08-13       2017-07-28  \n3      2013-07-16       2013-04-24  \n4      2015-10-12       2015-07-15  \n5      2013-08-12       2013-04-21  \n6      2018-04-16       2017-12-15  \n7      2017-03-10       2017-01-19  \n8      2017-07-30       2017-04-27  \n9      2015-07-07       2015-02-21  \n10     2017-07-13       2017-06-16  \n11     2016-02-18       2016-01-07  \n12     2014-02-07       2013-10-04  \n13     2014-06-05       2014-01-01  \n14     2015-02-15       2014-11-24  \n15     2017-02-20       2016-12-07  \n16     2017-05-26       2017-04-12  \n17     2016-05-05       2016-01-22  \n18     2017-08-04       2017-08-02  \n19     2015-05-02       2015-04-08  \n20     2015-10-22       2015-10-01  \n21     2013-11-12       2013-06-08  \n22     2017-02-12       2016-10-08  \n23     2015-10-08       2015-08-14  \n24     2016-03-08       2015-12-03  \n25     2015-02-28       2015-01-22  \n26     2014-01-07       2013-08-21  \n27     2014-09-20       2014-08-01  \n28     2017-06-28       2017-04-13  \n29     2013-05-18       2013-03-07  \n      project            employee      start        end\n0   Project 1     Josephina Dowty 2014-03-16 2014-01-31\n1   Project 1       Josey Mewrcik 2014-04-09 2014-01-31\n2   Project 1     Ryann Backshall 2014-04-28 2014-01-31\n3   Project 1     Ryann Backshall 2014-05-10 2014-01-31\n4   Project 1      Griffie Kaming 2014-04-02 2014-01-31\n5   Project 1    Haley Eccleshall 2014-04-15 2014-01-31\n6   Project 1   Seymour Dundredge 2014-02-13 2014-01-31\n7   Project 1  Grenville O'Fergus 2014-03-25 2014-01-31\n8   Project 1            Tadio Po 2014-04-18 2014-01-31\n9   Project 1      Stevy Minshall 2014-03-26 2014-01-31\n10  Project 1     Sigfrid Creavin 2014-03-09 2014-01-31\n11  Project 1         Dasha Bench 2014-04-07 2014-01-31\n12  Project 1    Creight Chatenet 2014-03-09 2014-01-31\n13  Project 1        Kyle Tarplee 2014-04-09 2014-01-31\n14  Project 1       Darice Gallen 2014-02-22 2014-01-31\n15  Project 1       Ethelin Cleef 2014-02-19 2014-01-31\n16  Project 1         Cecil Jaggs 2014-03-23 2014-01-31\n17  Project 1   Demetris Birkhead 2014-03-21 2014-01-31\n18  Project 1           Oren Cloy 2014-03-31 2014-01-31\n19  Project 1   Taddeusz Locksley 2014-04-08 2014-01-31\n20  Project 1     Cindra Serotsky 2014-02-20 2014-01-31\n21  Project 1      Griffie Kaming 2014-02-10 2014-01-31\n22  Project 1       Hazlett Oxbie 2014-03-19 2014-01-31\n23  Project 1       Hazlett Oxbie 2014-05-18 2014-01-31\n24  Project 1         Jade Whyler 2014-04-04 2014-01-31\n25  Project 1      Merrie Rudgley 2014-03-20 2014-01-31\n26  Project 1    Beauregard Pigot 2014-02-03 2014-01-31\n27  Project 1    Nataline Marples 2014-03-13 2014-01-31\n28  Project 1     Allen Salandino 2014-03-05 2014-01-31\n29  Project 1      Emerson Krolik 2014-02-06 2014-01-31\n30  Project 2   Cordie Di Giorgio 2017-12-24 2017-11-26\n31  Project 2     Brnaba Lodewick 2018-01-20 2017-11-26\n32  Project 2       Bobina Huckin 2018-01-21 2017-11-26\n33  Project 2       Ferrel Verson 2017-12-01 2017-11-26\n34  Project 2    Dael Paternoster 2017-12-03 2017-11-26\n35  Project 2    Nataline Marples 2017-12-15 2017-11-26\n36  Project 2        Jobye Barlie 2018-01-19 2017-11-26\n37  Project 2        Donia Cockin 2018-01-12 2017-11-26\n38  Project 2      Kalvin Garland 2018-01-25 2017-11-26\n39  Project 2       Derrek Algate 2017-12-02 2017-11-26\n"
     ]
    }
   ],
   "source": [
    "import numpy as np\n",
    "from scipy.stats import gamma\n",
    "\n",
    "# fill projects\n",
    "collection = db['project_type']\n",
    "dct_type = {\n",
    "    'type':['research','innovation','audit','reconciliation','conference','manufacturing',\n",
    "            'construction']\n",
    "}\n",
    "#df_type = pd.DataFrame.from_dict(dct_type)\n",
    "#data_json = json.loads(df_type.to_json(orient='records'))\n",
    "#collection.insert_many(data_json)\n",
    "\n",
    "types = dct_type['type']\n",
    "\n",
    "collection_workers = db['project_task']\n",
    "tasks_list = []\n",
    "project_lists = []\n",
    "for idx in range(1,351):\n",
    "    dct = {}\n",
    "    # generate project type\n",
    "    name = 'Project '+str(idx)\n",
    "    dct['name'] = name\n",
    "    dct['type'] = random.choice(types)\n",
    "    s = random.choice(['closed','closed','open'])\n",
    "    # generate dates\n",
    "    first_date = datetime(2013,1,1,0,0,0)\n",
    "    sp = first_date + timedelta(days=random.choice(list(range(0,1925))))\n",
    "    dct['startdate_proposed'] = sp\n",
    "    proj_len = random.choice(list(range(5,150)))\n",
    "    ep = sp + timedelta(days=proj_len)\n",
    "    dct['enddate_proposed'] = ep\n",
    "    \n",
    "    s = 'closed'\n",
    "    if ep > datetime.today():\n",
    "        s = 'open'\n",
    "    dct['status'] = s\n",
    "\n",
    "    delay = int(gamma.rvs(a=0.5, size=1))\n",
    "    if delay < 0:\n",
    "        delay = 0\n",
    "    sa = sp + timedelta(days=delay)\n",
    "    dct['startdate_actual'] = sa\n",
    "    # enddate delay\n",
    "    if s == 'closed':\n",
    "        delay = int(gamma.rvs(a=10, size=1))\n",
    "        delay *= random.choice([-1,1,1])\n",
    "        \n",
    "        dct['enddate_actual'] = ep + timedelta(days=delay) \n",
    "    else:\n",
    "        dct['enddate_actual'] = datetime(2020,1,1,0,0,0)\n",
    "    \n",
    "    project_lists.append(dct)\n",
    "    \n",
    "    ####################### tasks\n",
    "    emps = int(gamma.rvs(a=20, size=1))\n",
    "    for emp in range(0,emps):\n",
    "        dct_tasks= {}\n",
    "        dct_tasks['project'] =  name\n",
    "        task_len = proj_len * 24 *.25# hours\n",
    "        dct_tasks['employee'] = random.choice(employee_list)\n",
    "        \n",
    "        start = sa + timedelta(days=random.choice(list(range(0,int(proj_len*.8)))))\n",
    "        dct_tasks['start'] = start\n",
    "        end = start + timedelta(hours= int(gamma.rvs(a=task_len, size=1)))\n",
    "        if end > sa:\n",
    "            end = sa\n",
    "        dct_tasks['end'] = end\n",
    "        tasks_list.append(dct_tasks)\n",
    "        \n",
    "collection_project.insert_many(project_lists)\n",
    "collection_workers.insert_many(tasks_list)\n",
    "\n",
    "print(df.head(30))\n",
    "print(df_tasks.head(40))"
   ]
  },
  {
   "cell_type": "code",
   "execution_count": null,
   "metadata": {},
   "outputs": [],
   "source": []
  }
 ],
 "metadata": {
  "kernelspec": {
   "display_name": "Python 2",
   "language": "python",
   "name": "python2"
  },
  "language_info": {
   "codemirror_mode": {
    "name": "ipython",
    "version": 2
   },
   "file_extension": ".py",
   "mimetype": "text/x-python",
   "name": "python",
   "nbconvert_exporter": "python",
   "pygments_lexer": "ipython2",
   "version": "2.7.6"
  }
 },
 "nbformat": 4,
 "nbformat_minor": 0
}
