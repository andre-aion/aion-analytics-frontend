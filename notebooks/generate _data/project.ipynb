{
 "cells": [
  {
   "cell_type": "code",
   "execution_count": 1,
   "metadata": {
    "collapsed": true
   },
   "outputs": [],
   "source": [
    "import pymongo\n",
    "import pandas as pd\n",
    "import random\n",
    "import json\n",
    "from os.path import join,dirname\n",
    "import os\n",
    "from pymongo import MongoClient\n",
    "import random\n",
    "from datetime import date, timedelta, datetime\n",
    "DATEFORMAT = \"%Y-%m-%d\"\n",
    "\n",
    "client = MongoClient('localhost', 27017)\n",
    "db = client['aion']\n",
    "collection = db['employee']"
   ]
  },
  {
   "cell_type": "code",
   "execution_count": 3,
   "metadata": {},
   "outputs": [
    {
     "name": "stdout",
     "output_type": "stream",
     "text": [
      "[{'id': 1, 'name': 'Cindra Serotsky', 'department': 'Marketing', 'title': 'Senior Cost Accountant', 'gender': 'Female', 'dob': '1993-06-09', 'hourly_rate': 14}, {'id': 2, 'name': 'Nataline Marples', 'department': 'Business Development', 'title': 'Actuary', 'gender': 'Female', 'dob': '1996-09-07', 'hourly_rate': 20}]\n[{'id': 1, 'name': 'Cindra Serotsky', 'department': 'Marketing', 'title': 'Senior Cost Accountant', 'gender': 'Female', 'dob': datetime.datetime(1993, 6, 9, 0, 0), 'hourly_rate': 28.71}, {'id': 2, 'name': 'Nataline Marples', 'department': 'Business Development', 'title': 'Actuary', 'gender': 'Female', 'dob': datetime.datetime(1996, 9, 7, 0, 0), 'hourly_rate': 31.189999999999998}]\n"
     ]
    }
   ],
   "source": [
    "ROOT_DIR = os.path.abspath(os.curdir)\n",
    "filename =join(ROOT_DIR, 'data/employee_mock_data.json')\n",
    "if filename:\n",
    "    with open(filename, 'r') as f:\n",
    "        employees = json.load(f)\n",
    "print(employees[0:2])\n",
    "# bias salary by age and by gender\n",
    "employee_list = []\n",
    "employee_pay = []\n",
    "for key,employee in enumerate(employees):\n",
    "    employee_list.append(employee['name'])\n",
    "    if employee['hourly_rate'] < 0:\n",
    "        employee['hourly_rate'] = 20\n",
    "    if employee['gender'].lower() == 'female':\n",
    "        employee['hourly_rate'] *= random.choice([1.3, 1.6, 1.4, 1.1])\n",
    "    dt = datetime.strptime(employee['dob'],DATEFORMAT)\n",
    "    employee['dob'] = datetime(dt.year,dt.month,dt.day,0,0,0)\n",
    "    employee['hourly_rate'] += round((datetime.today() - employee['dob']).days/900,2)\n",
    "    employee_pay.append(employee['hourly_rate'])\n",
    "print(employees[0:2])\n",
    "employee_pay_dct = dict(zip(employee_list,employee_pay))\n",
    "#collection.insert_many(employees)\n"
   ]
  },
  {
   "cell_type": "code",
   "execution_count": 6,
   "metadata": {},
   "outputs": [
    {
     "data": {
      "text/plain": [
       "<pymongo.results.InsertManyResult at 0x7f46b76b9cc8>"
      ]
     },
     "execution_count": 6,
     "metadata": {},
     "output_type": "execute_result"
    }
   ],
   "source": [
    "import numpy as np\n",
    "from scipy.stats import gamma\n",
    "\n",
    "# fill projects\n",
    "collection = db['project_type']\n",
    "dct_type = {\n",
    "    'type':['research','innovation','audit','reconciliation','conference','manufacturing',\n",
    "            'construction']\n",
    "}\n",
    "#df_type = pd.DataFrame.from_dict(dct_type)\n",
    "#data_json = json.loads(df_type.to_json(orient='records'))\n",
    "#collection.insert_many(data_json)\n",
    "\n",
    "types = dct_type['type']\n",
    "\n",
    "collection_workers = db['project_task']\n",
    "tasks_list = []\n",
    "project_lists = []\n",
    "composite_lst = []\n",
    "for idx in range(1,3000):\n",
    "    dct = {}\n",
    "    composite={}\n",
    "    # generate project type\n",
    "    name = 'Project '+str(idx)\n",
    "    dct['name'] = name\n",
    "    dct['type'] = random.choice(types)\n",
    "    s = random.choice(['closed','closed','open'])\n",
    "    # generate dates\n",
    "    first_date = datetime(2013,1,1,0,0,0)\n",
    "    days = (datetime.today() - first_date).days\n",
    "    sp = first_date + timedelta(days=random.choice(list(range(0,days))))\n",
    "    \n",
    "    dct['startdate_proposed'] = sp\n",
    "    proj_len = int(gamma.rvs(a=60, size=1))\n",
    "    ep = sp + timedelta(days=proj_len)\n",
    "    dct['enddate_proposed'] = ep\n",
    "    \n",
    "    s = 'closed'\n",
    "    if ep > datetime.today():\n",
    "        s = 'open'\n",
    "    dct['status'] = s\n",
    "\n",
    "    delay = int(gamma.rvs(a=0.5, size=1))\n",
    "    if delay < 0:\n",
    "        delay = 0\n",
    "    sa = sp + timedelta(days=delay)\n",
    "    dct['startdate_actual'] = sa\n",
    "    # enddate delay\n",
    "    if s == 'closed':\n",
    "        delay = int(gamma.rvs(a=10, size=1))\n",
    "        delay *= random.choice([-1,1,1])\n",
    "        dct['enddate_actual'] = ep + timedelta(days=delay) \n",
    "    else:\n",
    "        dct['enddate_actual'] = datetime(2020,1,1,0,0,0)\n",
    "    \n",
    "    project_lists.append(dct)\n",
    "    \n",
    "    ####################### tasks\n",
    "    emps = int(gamma.rvs(a=20, size=1))\n",
    "    for emp in range(0,emps):\n",
    "        composite = {}\n",
    "        dct_tasks = {}\n",
    "        dct_tasks['project'] =  name\n",
    "        task_len = proj_len * 8 *.5# hours\n",
    "        dct_tasks['employee'] = random.choice(employee_list)\n",
    "        \n",
    "        start = sa + timedelta(days=random.choice(list(range(0,int(proj_len*.8)))))\n",
    "        dct_tasks['start'] = start\n",
    "        end = start + timedelta(hours= int(gamma.rvs(a=task_len, size=1)))\n",
    "        if end > dct['enddate_actual']:\n",
    "            end = dct['enddate_actual']\n",
    "        dct_tasks['end'] = end\n",
    "        duration = (dct_tasks['end'] - dct_tasks['start']).days*8\n",
    "        composite = {\n",
    "            'project':name,\n",
    "            'type':dct['type'],\n",
    "            'status':dct['status'],\n",
    "            'startdate_proposed':dct['startdate_proposed'],\n",
    "            'startdate_actual':dct['startdate_actual'],\n",
    "            'enddate_proposed':dct['enddate_proposed'],\n",
    "            'enddate_actual':dct['enddate_actual'],\n",
    "            'employee':dct_tasks['employee'],\n",
    "            'start':dct_tasks['start'],\n",
    "            'end':dct_tasks['end'],\n",
    "            'task_duration':round(duration,2),\n",
    "            'remuneration':round(employee_pay_dct[dct_tasks['employee']]*duration,2),\n",
    "            # find the delay\n",
    "            'delay_start': (dct['startdate_actual'] - dct['startdate_proposed']).days*8,\n",
    "            'delay_end':(dct['enddate_actual'] - dct['enddate_proposed']).days*8,\n",
    "            'project_duration': (dct['enddate_actual'] - dct['startdate_actual']).days\n",
    "            \n",
    "        }\n",
    "        tasks_list.append(dct_tasks)\n",
    "        composite_lst.append(composite)\n",
    "\n",
    "collection_project = db['project']\n",
    "collection_project.insert_many(project_lists)\n",
    "collection_workers.insert_many(tasks_list)\n",
    "collection_composite = db['project_composite']\n",
    "collection_composite.insert_many(composite_lst)\n"
   ]
  },
  {
   "cell_type": "code",
   "execution_count": null,
   "metadata": {},
   "outputs": [],
   "source": []
  }
 ],
 "metadata": {
  "kernelspec": {
   "display_name": "Python 2",
   "language": "python",
   "name": "python2"
  },
  "language_info": {
   "codemirror_mode": {
    "name": "ipython",
    "version": 2
   },
   "file_extension": ".py",
   "mimetype": "text/x-python",
   "name": "python",
   "nbconvert_exporter": "python",
   "pygments_lexer": "ipython2",
   "version": "2.7.6"
  }
 },
 "nbformat": 4,
 "nbformat_minor": 0
}
